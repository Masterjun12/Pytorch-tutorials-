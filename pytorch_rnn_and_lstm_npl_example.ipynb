{
  "nbformat": 4,
  "nbformat_minor": 0,
  "metadata": {
    "colab": {
      "provenance": [],
      "authorship_tag": "ABX9TyNKxWHCJ6KkC9blTAeFqutz",
      "include_colab_link": true
    },
    "kernelspec": {
      "name": "python3",
      "display_name": "Python 3"
    },
    "language_info": {
      "name": "python"
    }
  },
  "cells": [
    {
      "cell_type": "markdown",
      "metadata": {
        "id": "view-in-github",
        "colab_type": "text"
      },
      "source": [
        "<a href=\"https://colab.research.google.com/github/Masterjun12/Pytorch-tutorials-/blob/main/pytorch_rnn_and_lstm_npl_example.ipynb\" target=\"_parent\"><img src=\"https://colab.research.google.com/assets/colab-badge.svg\" alt=\"Open In Colab\"/></a>"
      ]
    },
    {
      "cell_type": "markdown",
      "source": [
        "code : https://justkode.kr/deep-learning/pytorch-rnn/\n",
        "\n"
      ],
      "metadata": {
        "id": "rcdcKBy0CEbk"
      }
    },
    {
      "cell_type": "code",
      "execution_count": 1,
      "metadata": {
        "colab": {
          "base_uri": "https://localhost:8080/"
        },
        "id": "-mabDTkWB7BR",
        "outputId": "63692e34-8c7c-4e9c-f7a1-f39406a6615d"
      },
      "outputs": [
        {
          "output_type": "stream",
          "name": "stderr",
          "text": [
            "<ipython-input-1-91ecbc3272c5>:40: UserWarning: Creating a tensor from a list of numpy.ndarrays is extremely slow. Please consider converting the list to a single numpy.ndarray with numpy.array() before converting to a tensor. (Triggered internally at ../torch/csrc/utils/tensor_new.cpp:275.)\n",
            "  input_batch = torch.tensor(input_batch, dtype=torch.float32, requires_grad=True)\n",
            "/usr/local/lib/python3.10/dist-packages/torch/nn/modules/rnn.py:83: UserWarning: dropout option adds dropout after all but last recurrent layer, so non-zero dropout expects num_layers greater than 1, but got dropout=0.3 and num_layers=1\n",
            "  warnings.warn(\"dropout option adds dropout after all but last \"\n"
          ]
        },
        {
          "output_type": "stream",
          "name": "stdout",
          "text": [
            "Epoch: 0100 cost = 0.631778\n",
            "Epoch: 0200 cost = 0.194404\n",
            "Epoch: 0300 cost = 0.052960\n",
            "Epoch: 0400 cost = 0.022445\n",
            "Epoch: 0500 cost = 0.012696\n",
            "[['i', 'like'], ['i', 'love'], ['i', 'hate'], ['you', 'like'], ['you', 'love'], ['you', 'hate']] -> ['dog', 'coffee', 'milk', 'cat', 'milk', 'coffee']\n"
          ]
        }
      ],
      "source": [
        "import numpy as np\n",
        "import torch\n",
        "import torch.nn as nn\n",
        "import torch.optim as optim\n",
        "\n",
        "#Recurrent Neural Network\n",
        "\n",
        "sentences = [\"i like dog\", \"i love coffee\", \"i hate milk\", \"you like cat\", \"you love milk\", \"you hate coffee\"]\n",
        "dtype = torch.float\n",
        "\n",
        "\"\"\"\n",
        "Word Processing\n",
        "\"\"\"\n",
        "word_list = list(set(\" \".join(sentences).split()))\n",
        "word_dict = {w: i for i, w in enumerate(word_list)}\n",
        "number_dict = {i: w for i, w in enumerate(word_list)}\n",
        "n_class = len(word_dict)\n",
        "\n",
        "\n",
        "\"\"\"\n",
        "TextRNN Parameter\n",
        "\"\"\"\n",
        "batch_size = len(sentences)\n",
        "n_step = 2  # 학습 하려고 하는 문장의 길이 - 1\n",
        "n_hidden = 5  # 은닉층 사이즈\n",
        "\n",
        "def make_batch(sentences):\n",
        "  input_batch = []\n",
        "  target_batch = []\n",
        "\n",
        "  for sen in sentences:\n",
        "    word = sen.split()\n",
        "    input = [word_dict[n] for n in word[:-1]]\n",
        "    target = word_dict[word[-1]]\n",
        "\n",
        "    input_batch.append(np.eye(n_class)[input])  # One-Hot Encoding\n",
        "    target_batch.append(target)\n",
        "\n",
        "  return input_batch, target_batch\n",
        "\n",
        "input_batch, target_batch = make_batch(sentences)\n",
        "input_batch = torch.tensor(input_batch, dtype=torch.float32, requires_grad=True)\n",
        "target_batch = torch.tensor(target_batch, dtype=torch.int64)\n",
        "\n",
        "\n",
        "\"\"\"\n",
        "TextRNN\n",
        "\"\"\"\n",
        "class TextRNN(nn.Module):\n",
        "  def __init__(self):\n",
        "    super(TextRNN, self).__init__()\n",
        "\n",
        "    self.rnn = nn.RNN(input_size=n_class, hidden_size=n_hidden, dropout=0.3)\n",
        "    self.W = nn.Parameter(torch.randn([n_hidden, n_class]).type(dtype))\n",
        "    self.b = nn.Parameter(torch.randn([n_class]).type(dtype))\n",
        "    self.Softmax = nn.Softmax(dim=1)\n",
        "\n",
        "  def forward(self, hidden, X):\n",
        "    X = X.transpose(0, 1)\n",
        "    outputs, hidden = self.rnn(X, hidden)\n",
        "    outputs = outputs[-1]  # 최종 예측 Hidden Layer\n",
        "    model = torch.mm(outputs, self.W) + self.b  # 최종 예측 최종 출력 층\n",
        "    return model\n",
        "\n",
        "\n",
        "\"\"\"\n",
        "Training\n",
        "\"\"\"\n",
        "model = TextRNN()\n",
        "criterion = nn.CrossEntropyLoss()\n",
        "optimizer = optim.Adam(model.parameters(), lr=0.01)\n",
        "\n",
        "for epoch in range(500):\n",
        "  hidden = torch.zeros(1, batch_size, n_hidden, requires_grad=True)\n",
        "  output = model(hidden, input_batch)\n",
        "  loss = criterion(output, target_batch)\n",
        "\n",
        "  if (epoch + 1) % 100 == 0:\n",
        "    print('Epoch:', '%04d' % (epoch + 1), 'cost =', '{:.6f}'.format(loss))\n",
        "\n",
        "  optimizer.zero_grad()\n",
        "  loss.backward()\n",
        "  optimizer.step()\n",
        "\n",
        "input = [sen.split()[:2] for sen in sentences]\n",
        "\n",
        "hidden = torch.zeros(1, batch_size, n_hidden, requires_grad=True)\n",
        "predict = model(hidden, input_batch).data.max(1, keepdim=True)[1]\n",
        "print([sen.split()[:2] for sen in sentences], '->', [number_dict[n.item()] for n in predict.squeeze()])"
      ]
    },
    {
      "cell_type": "code",
      "source": [
        "# Long Short-Term Memory (LSTM)\n",
        "import numpy as np\n",
        "import torch\n",
        "import torch.nn as nn\n",
        "import torch.optim as optim\n",
        "\n",
        "sentences = [\"i like dog\", \"i love coffee\", \"i hate milk\", \"you like cat\", \"you love milk\", \"you hate coffee\"]\n",
        "dtype = torch.float\n",
        "\n",
        "\"\"\"\n",
        "Word Processing\n",
        "\"\"\"\n",
        "word_list = list(set(\" \".join(sentences).split()))\n",
        "word_dict = {w: i for i, w in enumerate(word_list)}\n",
        "number_dict = {i: w for i, w in enumerate(word_list)}\n",
        "n_class = len(word_dict)\n",
        "\n",
        "\n",
        "\"\"\"\n",
        "TextRNN Parameter\n",
        "\"\"\"\n",
        "batch_size = len(sentences)\n",
        "n_step = 2  # 학습 하려고 하는 문장의 길이 - 1\n",
        "n_hidden = 5  # 은닉층 사이즈\n",
        "\n",
        "def make_batch(sentences):\n",
        "  input_batch = []\n",
        "  target_batch = []\n",
        "\n",
        "  for sen in sentences:\n",
        "    word = sen.split()\n",
        "    input = [word_dict[n] for n in word[:-1]]\n",
        "    target = word_dict[word[-1]]\n",
        "\n",
        "    input_batch.append(np.eye(n_class)[input])  # One-Hot Encoding\n",
        "    target_batch.append(target)\n",
        "\n",
        "  return input_batch, target_batch\n",
        "\n",
        "input_batch, target_batch = make_batch(sentences)\n",
        "input_batch = torch.tensor(input_batch, dtype=torch.float32, requires_grad=True)\n",
        "target_batch = torch.tensor(target_batch, dtype=torch.int64)\n",
        "\n",
        "\n",
        "\"\"\"\n",
        "TextLSTM\n",
        "\"\"\"\n",
        "class TextLSTM(nn.Module):\n",
        "  def __init__(self):\n",
        "    super(TextLSTM, self).__init__()\n",
        "\n",
        "    self.lstm = nn.LSTM(input_size=n_class, hidden_size=n_hidden, dropout=0.3)\n",
        "    self.W = nn.Parameter(torch.randn([n_hidden, n_class]).type(dtype))\n",
        "    self.b = nn.Parameter(torch.randn([n_class]).type(dtype))\n",
        "    self.Softmax = nn.Softmax(dim=1)\n",
        "\n",
        "  def forward(self, hidden_and_cell, X):\n",
        "    X = X.transpose(0, 1)\n",
        "    outputs, hidden = self.lstm(X, hidden_and_cell)\n",
        "    outputs = outputs[-1]  # 최종 예측 Hidden Layer\n",
        "    model = torch.mm(outputs, self.W) + self.b  # 최종 예측 최종 출력 층\n",
        "    return model\n",
        "\n",
        "\n",
        "\"\"\"\n",
        "Training\n",
        "\"\"\"\n",
        "model = TextLSTM()\n",
        "criterion = nn.CrossEntropyLoss()\n",
        "optimizer = optim.Adam(model.parameters(), lr=0.01)\n",
        "\n",
        "for epoch in range(500):\n",
        "  hidden = torch.zeros(1, batch_size, n_hidden, requires_grad=True)\n",
        "  cell = torch.zeros(1, batch_size, n_hidden, requires_grad=True)\n",
        "  output = model((hidden, cell), input_batch)\n",
        "  loss = criterion(output, target_batch)\n",
        "\n",
        "  if (epoch + 1) % 100 == 0:\n",
        "    print('Epoch:', '%04d' % (epoch + 1), 'cost =', '{:.6f}'.format(loss))\n",
        "\n",
        "  optimizer.zero_grad()\n",
        "  loss.backward()\n",
        "  optimizer.step()\n",
        "\n",
        "input = [sen.split()[:2] for sen in sentences]\n",
        "\n",
        "hidden = torch.zeros(1, batch_size, n_hidden, requires_grad=True)\n",
        "cell = torch.zeros(1, batch_size, n_hidden, requires_grad=True)\n",
        "predict = model((hidden, cell), input_batch).data.max(1, keepdim=True)[1]\n",
        "print([sen.split()[:2] for sen in sentences], '->', [number_dict[n.item()] for n in predict.squeeze()])"
      ],
      "metadata": {
        "colab": {
          "base_uri": "https://localhost:8080/"
        },
        "id": "3kwxSVfCCWjp",
        "outputId": "f0cadcaa-8005-4ee9-86bc-f6512137fa07"
      },
      "execution_count": 2,
      "outputs": [
        {
          "output_type": "stream",
          "name": "stderr",
          "text": [
            "/usr/local/lib/python3.10/dist-packages/torch/nn/modules/rnn.py:83: UserWarning: dropout option adds dropout after all but last recurrent layer, so non-zero dropout expects num_layers greater than 1, but got dropout=0.3 and num_layers=1\n",
            "  warnings.warn(\"dropout option adds dropout after all but last \"\n"
          ]
        },
        {
          "output_type": "stream",
          "name": "stdout",
          "text": [
            "Epoch: 0100 cost = 0.743444\n",
            "Epoch: 0200 cost = 0.293996\n",
            "Epoch: 0300 cost = 0.039743\n",
            "Epoch: 0400 cost = 0.017908\n",
            "Epoch: 0500 cost = 0.010986\n",
            "[['i', 'like'], ['i', 'love'], ['i', 'hate'], ['you', 'like'], ['you', 'love'], ['you', 'hate']] -> ['dog', 'coffee', 'milk', 'cat', 'milk', 'coffee']\n"
          ]
        }
      ]
    }
  ]
}