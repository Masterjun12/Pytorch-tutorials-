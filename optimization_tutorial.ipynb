{
  "cells": [
    {
      "cell_type": "markdown",
      "metadata": {
        "id": "view-in-github",
        "colab_type": "text"
      },
      "source": [
        "<a href=\"https://colab.research.google.com/github/Masterjun12/Pytorch-tutorials-/blob/main/optimization_tutorial.ipynb\" target=\"_parent\"><img src=\"https://colab.research.google.com/assets/colab-badge.svg\" alt=\"Open In Colab\"/></a>"
      ]
    },
    {
      "cell_type": "markdown",
      "metadata": {
        "id": "iGXgh-Md3vVO"
      },
      "source": [
        "\n",
        "[파이토치(PyTorch) 기본 익히기](intro.html) ||\n",
        "[빠른 시작](quickstart_tutorial.html) ||\n",
        "[텐서(Tensor)](tensorqs_tutorial.html) ||\n",
        "[Dataset과 Dataloader](data_tutorial.html) ||\n",
        "[변형(Transform)](transforms_tutorial.html) ||\n",
        "[신경망 모델 구성하기](buildmodel_tutorial.html) ||\n",
        "[Autograd](autogradqs_tutorial.html) ||\n",
        "**최적화(Optimization)** ||\n",
        "[모델 저장하고 불러오기](saveloadrun_tutorial.html)\n",
        "\n",
        "# 모델 매개변수 최적화하기\n",
        "\n",
        "이제 모델과 데이터가 준비되었으니, 데이터에 매개변수를 최적화하여 모델을 학습하고, 검증하고, 테스트할 차례입니다.\n",
        "모델을 학습하는 과정은 반복적인 과정을 거칩니다; 각 반복 단계에서 모델은 출력을 추측하고,\n",
        "추측과 정답 사이의 오류(\\ *손실(loss)*\\ )를 계산하고, ([이전 장](autograd_tutorial.html)\\ 에서 본 것처럼)\n",
        "매개변수에 대한 오류의 도함수(derivative)를 수집한 뒤, 경사하강법을 사용하여 이 파라미터들을 **최적화(optimize)**\\ 합니다.\n",
        "이 과정에 대한 자세한 설명은 [3Blue1Brown의 역전파](https://www.youtube.com/watch?v=tIeHLnjs5U8)_ 영상을 참고하세요.\n",
        "\n",
        "## 기본(Pre-requisite) 코드\n",
        "이전 장인 [Dataset과 DataLoader](data_tutorial.html)\\ 와 [신경망 모델 구성하기](buildmodel_tutorial.html)\\ 에서\n",
        "코드를 가져왔습니다.\n"
      ]
    },
    {
      "cell_type": "code",
      "execution_count": null,
      "metadata": {
        "id": "P_4T9lDU3vVP",
        "colab": {
          "base_uri": "https://localhost:8080/"
        },
        "outputId": "8f74d552-6aa5-43d0-89d5-910cf8e15d77"
      },
      "outputs": [
        {
          "output_type": "stream",
          "name": "stdout",
          "text": [
            "Downloading http://fashion-mnist.s3-website.eu-central-1.amazonaws.com/train-images-idx3-ubyte.gz\n",
            "Downloading http://fashion-mnist.s3-website.eu-central-1.amazonaws.com/train-images-idx3-ubyte.gz to data/FashionMNIST/raw/train-images-idx3-ubyte.gz\n"
          ]
        },
        {
          "output_type": "stream",
          "name": "stderr",
          "text": [
            "100%|██████████| 26421880/26421880 [00:02<00:00, 11871428.22it/s]\n"
          ]
        },
        {
          "output_type": "stream",
          "name": "stdout",
          "text": [
            "Extracting data/FashionMNIST/raw/train-images-idx3-ubyte.gz to data/FashionMNIST/raw\n",
            "\n",
            "Downloading http://fashion-mnist.s3-website.eu-central-1.amazonaws.com/train-labels-idx1-ubyte.gz\n",
            "Downloading http://fashion-mnist.s3-website.eu-central-1.amazonaws.com/train-labels-idx1-ubyte.gz to data/FashionMNIST/raw/train-labels-idx1-ubyte.gz\n"
          ]
        },
        {
          "output_type": "stream",
          "name": "stderr",
          "text": [
            "100%|██████████| 29515/29515 [00:00<00:00, 201659.09it/s]\n"
          ]
        },
        {
          "output_type": "stream",
          "name": "stdout",
          "text": [
            "Extracting data/FashionMNIST/raw/train-labels-idx1-ubyte.gz to data/FashionMNIST/raw\n",
            "\n",
            "Downloading http://fashion-mnist.s3-website.eu-central-1.amazonaws.com/t10k-images-idx3-ubyte.gz\n",
            "Downloading http://fashion-mnist.s3-website.eu-central-1.amazonaws.com/t10k-images-idx3-ubyte.gz to data/FashionMNIST/raw/t10k-images-idx3-ubyte.gz\n"
          ]
        },
        {
          "output_type": "stream",
          "name": "stderr",
          "text": [
            "100%|██████████| 4422102/4422102 [00:01<00:00, 3736033.69it/s]\n"
          ]
        },
        {
          "output_type": "stream",
          "name": "stdout",
          "text": [
            "Extracting data/FashionMNIST/raw/t10k-images-idx3-ubyte.gz to data/FashionMNIST/raw\n",
            "\n",
            "Downloading http://fashion-mnist.s3-website.eu-central-1.amazonaws.com/t10k-labels-idx1-ubyte.gz\n",
            "Downloading http://fashion-mnist.s3-website.eu-central-1.amazonaws.com/t10k-labels-idx1-ubyte.gz to data/FashionMNIST/raw/t10k-labels-idx1-ubyte.gz\n"
          ]
        },
        {
          "output_type": "stream",
          "name": "stderr",
          "text": [
            "100%|██████████| 5148/5148 [00:00<00:00, 23217502.14it/s]"
          ]
        },
        {
          "output_type": "stream",
          "name": "stdout",
          "text": [
            "Extracting data/FashionMNIST/raw/t10k-labels-idx1-ubyte.gz to data/FashionMNIST/raw\n",
            "\n"
          ]
        },
        {
          "output_type": "stream",
          "name": "stderr",
          "text": [
            "\n"
          ]
        }
      ],
      "source": [
        "import torch\n",
        "from torch import nn\n",
        "from torch.utils.data import DataLoader\n",
        "from torchvision import datasets\n",
        "from torchvision.transforms import ToTensor\n",
        "\n",
        "training_data = datasets.FashionMNIST(\n",
        "    root=\"data\",\n",
        "    train=True,\n",
        "    download=True,\n",
        "    transform=ToTensor()\n",
        ")\n",
        "\n",
        "test_data = datasets.FashionMNIST(\n",
        "    root=\"data\",\n",
        "    train=False,\n",
        "    download=True,\n",
        "    transform=ToTensor()\n",
        ")\n",
        "\n",
        "train_dataloader = DataLoader(training_data, batch_size=64)\n",
        "test_dataloader = DataLoader(test_data, batch_size=64)\n",
        "\n",
        "class NeuralNetwork(nn.Module):\n",
        "    def __init__(self):\n",
        "        super(NeuralNetwork, self).__init__()\n",
        "        self.flatten = nn.Flatten()\n",
        "        self.linear_relu_stack = nn.Sequential(\n",
        "            nn.Linear(28*28, 512),\n",
        "            nn.ReLU(),\n",
        "            nn.Linear(512, 512),\n",
        "            nn.ReLU(),\n",
        "            nn.Linear(512, 10),\n",
        "        )\n",
        "\n",
        "    def forward(self, x):\n",
        "        x = self.flatten(x)\n",
        "        logits = self.linear_relu_stack(x)\n",
        "        return logits\n",
        "\n",
        "model = NeuralNetwork()"
      ]
    },
    {
      "cell_type": "markdown",
      "metadata": {
        "id": "5n_lF8CP3vVQ"
      },
      "source": [
        "## 하이퍼파라미터(Hyperparameter)\n",
        "\n",
        "하이퍼파라미터(Hyperparameter)는 모델 최적화 과정을 제어할 수 있는 조절 가능한 매개변수입니다.\n",
        "서로 다른 하이퍼파라미터 값은 모델 학습과 수렴율(convergence rate)에 영향을 미칠 수 있습니다.\n",
        "(하이퍼파라미터 튜닝(tuning)에 대해 [더 알아보기](https://tutorials.pytorch.kr/beginner/hyperparameter_tuning_tutorial.html)_)\n",
        "\n",
        "학습 시에는 다음과 같은 하이퍼파라미터를 정의합니다:\n",
        " - **에폭(epoch) 수** - 데이터셋을 반복하는 횟수\n",
        " - **배치 크기(batch size)** - 매개변수가 갱신되기 전 신경망을 통해 전파된 데이터 샘플의 수\n",
        " - **학습률(learning rate)** - 각 배치/에폭에서 모델의 매개변수를 조절하는 비율. 값이 작을수록 학습 속도가 느려지고, 값이 크면 학습 중 예측할 수 없는 동작이 발생할 수 있습니다.\n",
        "\n",
        "\n"
      ]
    },
    {
      "cell_type": "code",
      "execution_count": null,
      "metadata": {
        "id": "bn5oFeE63vVQ"
      },
      "outputs": [],
      "source": [
        "learning_rate = 1e-3 #0.001\n",
        "batch_size = 64\n",
        "epochs = 5"
      ]
    },
    {
      "cell_type": "markdown",
      "metadata": {
        "id": "FxqfH0VQ3vVQ"
      },
      "source": [
        "## 최적화 단계(Optimization Loop)\n",
        "\n",
        "하이퍼파라미터를 설정한 뒤에는 최적화 단계를 통해 모델을 학습하고 최적화할 수 있습니다.\n",
        "최적화 단계의 각 반복(iteration)을 **에폭**\\ 이라고 부릅니다.\n",
        "\n",
        "하나의 에폭은 다음 두 부분으로 구성됩니다:\n",
        " - **학습 단계(train loop)** - 학습용 데이터셋을 반복(iterate)하고 최적의 매개변수로 수렴합니다.\n",
        " - **검증/테스트 단계(validation/test loop)** - 모델 성능이 개선되고 있는지를 확인하기 위해 테스트 데이터셋을 반복(iterate)합니다.\n",
        "\n",
        "학습 단계(training loop)에서 일어나는 몇 가지 개념들을 간략히 살펴보겠습니다. 최적화 단계(optimization loop)를 보려면\n",
        "`full-impl-label` 부분으로 건너뛰시면 됩니다.\n",
        "\n",
        "### 손실 함수(loss function)\n",
        "\n",
        "학습용 데이터를 제공하면, 학습되지 않은 신경망은 정답을 제공하지 않을 확률이 높습니다. **손실 함수(loss function)**\\ 는\n",
        "획득한 결과와 실제 값 사이의 틀린 정도(degree of dissimilarity)를 측정하며, 학습 중에 이 값을 최소화하려고 합니다.\n",
        "주어진 데이터 샘플을 입력으로 계산한 예측과 정답(label)을 비교하여 손실(loss)을 계산합니다.\n",
        "\n",
        "일반적인 손실함수에는 회귀 문제(regression task)에 사용하는 [nn.MSELoss](https://pytorch.org/docs/stable/generated/torch.nn.MSELoss.html#torch.nn.MSELoss)\\ (평균 제곱 오차(MSE; Mean Square Error))나\n",
        "분류(classification)에 사용하는 [nn.NLLLoss](https://pytorch.org/docs/stable/generated/torch.nn.NLLLoss.html#torch.nn.NLLLoss) (음의 로그 우도(Negative Log Likelihood)),\n",
        "그리고 ``nn.LogSoftmax``\\ 와 ``nn.NLLLoss``\\ 를 합친 [nn.CrossEntropyLoss](https://pytorch.org/docs/stable/generated/torch.nn.CrossEntropyLoss.html#torch.nn.CrossEntropyLoss)\n",
        "등이 있습니다.\n",
        "\n",
        "모델의 출력 로짓(logit)을 ``nn.CrossEntropyLoss``\\ 에 전달하여 로짓(logit)을 정규화하고 예측 오류를 계산합니다.\n",
        "\n"
      ]
    },
    {
      "cell_type": "code",
      "execution_count": null,
      "metadata": {
        "id": "VWIEqQJ53vVQ"
      },
      "outputs": [],
      "source": [
        "# 손실 함수를 초기화합니다.\n",
        "loss_fn = nn.BCELoss()"
      ]
    },
    {
      "cell_type": "markdown",
      "metadata": {
        "id": "8pghCwwS3vVQ"
      },
      "source": [
        "### 옵티마이저(Optimizer)\n",
        "\n",
        "최적화는 각 학습 단계에서 모델의 오류를 줄이기 위해 모델 매개변수를 조정하는 과정입니다. **최적화 알고리즘**\\ 은 이 과정이 수행되는 방식(여기에서는 확률적 경사하강법(SGD; Stochastic Gradient Descent))을 정의합니다.\n",
        "모든 최적화 절차(logic)는 ``optimizer`` 객체에 캡슐화(encapsulate)됩니다. 여기서는 SGD 옵티마이저를 사용하고 있으며, PyTorch에는 ADAM이나 RMSProp과 같은 다른 종류의 모델과 데이터에서 더 잘 동작하는\n",
        "[다양한 옵티마이저](https://pytorch.org/docs/stable/optim.html)\\ 가 있습니다.\n",
        "\n",
        "학습하려는 모델의 매개변수와 학습률(learning rate) 하이퍼파라미터를 등록하여 옵티마이저를 초기화합니다.\n",
        "\n"
      ]
    },
    {
      "cell_type": "code",
      "execution_count": null,
      "metadata": {
        "id": "p3Z-7DFG3vVR"
      },
      "outputs": [],
      "source": [
        "optimizer = torch.optim.Adadelta(model.parameters(), lr=learning_rate)"
      ]
    },
    {
      "cell_type": "markdown",
      "metadata": {
        "id": "Xj1VjyoK3vVR"
      },
      "source": [
        "학습 단계(loop)에서 최적화는 세단계로 이뤄집니다:\n",
        " * ``optimizer.zero_grad()``\\ 를 호출하여 모델 매개변수의 변화도를 재설정합니다. 기본적으로 변화도는 더해지기(add up) 때문에 중복 계산을 막기 위해 반복할 때마다 명시적으로 0으로 설정합니다.\n",
        " * ``loss.backwards()``\\ 를 호출하여 예측 손실(prediction loss)을 역전파합니다. PyTorch는 각 매개변수에 대한 손실의 변화도를 저장합니다.\n",
        " * 변화도를 계산한 뒤에는 ``optimizer.step()``\\ 을 호출하여 역전파 단계에서 수집된 변화도로 매개변수를 조정합니다.\n",
        "\n"
      ]
    },
    {
      "cell_type": "markdown",
      "metadata": {
        "id": "-Dy9ZXfO3vVR"
      },
      "source": [
        "\n",
        "## 전체 구현\n",
        "\n",
        "최적화 코드를 반복하여 수행하는 ``train_loop``\\ 와 테스트 데이터로 모델의 성능을 측정하는 ``test_loop``\\ 를 정의하였습니다.\n",
        "\n"
      ]
    },
    {
      "cell_type": "code",
      "execution_count": null,
      "metadata": {
        "id": "NK9vNbHh3vVR"
      },
      "outputs": [],
      "source": [
        "def train_loop(dataloader, model, loss_fn, optimizer):\n",
        "    size = len(dataloader.dataset)\n",
        "    for batch, (X, y) in enumerate(dataloader):\n",
        "        # 예측(prediction)과 손실(loss) 계산\n",
        "        pred = model(X)\n",
        "        loss = loss_fn(pred, y)\n",
        "\n",
        "        # 역전파\n",
        "        optimizer.zero_grad()\n",
        "        loss.backward()\n",
        "        optimizer.step()\n",
        "\n",
        "        if batch % 100 == 0:\n",
        "            loss, current = loss.item(), (batch + 1) * len(X)\n",
        "            print(f\"loss: {loss:>7f}  [{current:>5d}/{size:>5d}]\")\n",
        "\n",
        "\n",
        "def test_loop(dataloader, model, loss_fn):\n",
        "    size = len(dataloader.dataset)\n",
        "    num_batches = len(dataloader)\n",
        "    test_loss, correct = 0, 0\n",
        "\n",
        "    with torch.no_grad():\n",
        "        for X, y in dataloader:\n",
        "            pred = model(X)\n",
        "            test_loss += loss_fn(pred, y).item()\n",
        "            correct += (pred.argmax(1) == y).type(torch.float).sum().item()\n",
        "\n",
        "    test_loss /= num_batches\n",
        "    correct /= size\n",
        "    print(f\"Test Error: \\n Accuracy: {(100*correct):>0.1f}%, Avg loss: {test_loss:>8f} \\n\")"
      ]
    },
    {
      "cell_type": "markdown",
      "metadata": {
        "id": "cjLn5fiE3vVR"
      },
      "source": [
        "손실 함수와 옵티마이저를 초기화하고 ``train_loop``\\ 와 ``test_loop``\\ 에 전달합니다.\n",
        "모델의 성능 향상을 알아보기 위해 자유롭게 에폭(epoch) 수를 증가시켜 볼 수 있습니다.\n",
        "\n"
      ]
    },
    {
      "cell_type": "code",
      "execution_count": null,
      "metadata": {
        "id": "hKSXIKM53vVR",
        "colab": {
          "base_uri": "https://localhost:8080/"
        },
        "outputId": "99bece98-5bc6-4c3e-9ad7-cb3e122b2587"
      },
      "outputs": [
        {
          "output_type": "stream",
          "name": "stdout",
          "text": [
            "Epoch 1\n",
            "-------------------------------\n",
            "loss: 0.785333  [   64/60000]\n",
            "loss: 0.860049  [ 6464/60000]\n",
            "loss: 0.638973  [12864/60000]\n",
            "loss: 0.834118  [19264/60000]\n",
            "loss: 0.737977  [25664/60000]\n",
            "loss: 0.732069  [32064/60000]\n",
            "loss: 0.820605  [38464/60000]\n",
            "loss: 0.795848  [44864/60000]\n",
            "loss: 0.792078  [51264/60000]\n",
            "loss: 0.759342  [57664/60000]\n",
            "Test Error: \n",
            " Accuracy: 72.2%, Avg loss: 0.757339 \n",
            "\n",
            "Epoch 2\n",
            "-------------------------------\n",
            "loss: 0.747284  [   64/60000]\n",
            "loss: 0.830574  [ 6464/60000]\n",
            "loss: 0.607812  [12864/60000]\n",
            "loss: 0.810449  [19264/60000]\n",
            "loss: 0.717310  [25664/60000]\n",
            "loss: 0.707468  [32064/60000]\n",
            "loss: 0.794391  [38464/60000]\n",
            "loss: 0.778071  [44864/60000]\n",
            "loss: 0.769302  [51264/60000]\n",
            "loss: 0.737808  [57664/60000]\n",
            "Test Error: \n",
            " Accuracy: 73.3%, Avg loss: 0.735137 \n",
            "\n",
            "Epoch 3\n",
            "-------------------------------\n",
            "loss: 0.714190  [   64/60000]\n",
            "loss: 0.804107  [ 6464/60000]\n",
            "loss: 0.580990  [12864/60000]\n",
            "loss: 0.790595  [19264/60000]\n",
            "loss: 0.699763  [25664/60000]\n",
            "loss: 0.687157  [32064/60000]\n",
            "loss: 0.770538  [38464/60000]\n",
            "loss: 0.762426  [44864/60000]\n",
            "loss: 0.749619  [51264/60000]\n",
            "loss: 0.718436  [57664/60000]\n",
            "Test Error: \n",
            " Accuracy: 74.3%, Avg loss: 0.715495 \n",
            "\n",
            "Epoch 4\n",
            "-------------------------------\n",
            "loss: 0.685103  [   64/60000]\n",
            "loss: 0.780017  [ 6464/60000]\n",
            "loss: 0.557608  [12864/60000]\n",
            "loss: 0.773586  [19264/60000]\n",
            "loss: 0.684513  [25664/60000]\n",
            "loss: 0.670122  [32064/60000]\n",
            "loss: 0.748630  [38464/60000]\n",
            "loss: 0.748369  [44864/60000]\n",
            "loss: 0.732378  [51264/60000]\n",
            "loss: 0.700806  [57664/60000]\n",
            "Test Error: \n",
            " Accuracy: 75.0%, Avg loss: 0.697794 \n",
            "\n",
            "Epoch 5\n",
            "-------------------------------\n",
            "loss: 0.659322  [   64/60000]\n",
            "loss: 0.757866  [ 6464/60000]\n",
            "loss: 0.536913  [12864/60000]\n",
            "loss: 0.758470  [19264/60000]\n",
            "loss: 0.671123  [25664/60000]\n",
            "loss: 0.655586  [32064/60000]\n",
            "loss: 0.728299  [38464/60000]\n",
            "loss: 0.735683  [44864/60000]\n",
            "loss: 0.717227  [51264/60000]\n",
            "loss: 0.684488  [57664/60000]\n",
            "Test Error: \n",
            " Accuracy: 75.8%, Avg loss: 0.681674 \n",
            "\n",
            "Epoch 6\n",
            "-------------------------------\n",
            "loss: 0.636249  [   64/60000]\n",
            "loss: 0.737457  [ 6464/60000]\n",
            "loss: 0.518423  [12864/60000]\n",
            "loss: 0.744848  [19264/60000]\n",
            "loss: 0.659322  [25664/60000]\n",
            "loss: 0.642932  [32064/60000]\n",
            "loss: 0.709615  [38464/60000]\n",
            "loss: 0.724253  [44864/60000]\n",
            "loss: 0.703897  [51264/60000]\n",
            "loss: 0.669496  [57664/60000]\n",
            "Test Error: \n",
            " Accuracy: 76.4%, Avg loss: 0.666946 \n",
            "\n",
            "Epoch 7\n",
            "-------------------------------\n",
            "loss: 0.615753  [   64/60000]\n",
            "loss: 0.718595  [ 6464/60000]\n",
            "loss: 0.501872  [12864/60000]\n",
            "loss: 0.732471  [19264/60000]\n",
            "loss: 0.649027  [25664/60000]\n",
            "loss: 0.631895  [32064/60000]\n",
            "loss: 0.692254  [38464/60000]\n",
            "loss: 0.714060  [44864/60000]\n",
            "loss: 0.692373  [51264/60000]\n",
            "loss: 0.655612  [57664/60000]\n",
            "Test Error: \n",
            " Accuracy: 77.0%, Avg loss: 0.653459 \n",
            "\n",
            "Epoch 8\n",
            "-------------------------------\n",
            "loss: 0.597436  [   64/60000]\n",
            "loss: 0.701302  [ 6464/60000]\n",
            "loss: 0.487017  [12864/60000]\n",
            "loss: 0.721175  [19264/60000]\n",
            "loss: 0.639883  [25664/60000]\n",
            "loss: 0.622282  [32064/60000]\n",
            "loss: 0.676097  [38464/60000]\n",
            "loss: 0.705167  [44864/60000]\n",
            "loss: 0.682447  [51264/60000]\n",
            "loss: 0.642745  [57664/60000]\n",
            "Test Error: \n",
            " Accuracy: 77.6%, Avg loss: 0.641079 \n",
            "\n",
            "Epoch 9\n",
            "-------------------------------\n",
            "loss: 0.580865  [   64/60000]\n",
            "loss: 0.685381  [ 6464/60000]\n",
            "loss: 0.473694  [12864/60000]\n",
            "loss: 0.710762  [19264/60000]\n",
            "loss: 0.631683  [25664/60000]\n",
            "loss: 0.613826  [32064/60000]\n",
            "loss: 0.661206  [38464/60000]\n",
            "loss: 0.697501  [44864/60000]\n",
            "loss: 0.673896  [51264/60000]\n",
            "loss: 0.630803  [57664/60000]\n",
            "Test Error: \n",
            " Accuracy: 78.0%, Avg loss: 0.629713 \n",
            "\n",
            "Epoch 10\n",
            "-------------------------------\n",
            "loss: 0.565828  [   64/60000]\n",
            "loss: 0.670703  [ 6464/60000]\n",
            "loss: 0.461591  [12864/60000]\n",
            "loss: 0.701105  [19264/60000]\n",
            "loss: 0.624288  [25664/60000]\n",
            "loss: 0.606338  [32064/60000]\n",
            "loss: 0.647406  [38464/60000]\n",
            "loss: 0.690896  [44864/60000]\n",
            "loss: 0.666596  [51264/60000]\n",
            "loss: 0.619709  [57664/60000]\n",
            "Test Error: \n",
            " Accuracy: 78.4%, Avg loss: 0.619273 \n",
            "\n",
            "Done!\n"
          ]
        }
      ],
      "source": [
        "loss_fn = nn.CrossEntropyLoss()\n",
        "optimizer = torch.optim.SGD(model.parameters(), lr=learning_rate)\n",
        "\n",
        "epochs = 10\n",
        "for t in range(epochs):\n",
        "    print(f\"Epoch {t+1}\\n-------------------------------\")\n",
        "    train_loop(train_dataloader, model, loss_fn, optimizer)\n",
        "    test_loop(test_dataloader, model, loss_fn)\n",
        "print(\"Done!\")"
      ]
    },
    {
      "cell_type": "markdown",
      "metadata": {
        "id": "sgQ_dCpA3vVR"
      },
      "source": [
        "## 더 읽어보기\n",
        "- [Loss Functions](https://pytorch.org/docs/stable/nn.html#loss-functions)\n",
        "- [torch.optim](https://pytorch.org/docs/stable/optim.html)\n",
        "- [Warmstart Training a Model](https://tutorials.pytorch.kr/recipes/recipes/warmstarting_model_using_parameters_from_a_different_model.html)\n",
        "\n",
        "\n"
      ]
    }
  ],
  "metadata": {
    "kernelspec": {
      "display_name": "Python 3",
      "name": "python3"
    },
    "language_info": {
      "codemirror_mode": {
        "name": "ipython",
        "version": 3
      },
      "file_extension": ".py",
      "mimetype": "text/x-python",
      "name": "python",
      "nbconvert_exporter": "python",
      "pygments_lexer": "ipython3",
      "version": "3.8.10"
    },
    "colab": {
      "provenance": [],
      "machine_shape": "hm",
      "gpuType": "L4",
      "include_colab_link": true
    },
    "accelerator": "GPU"
  },
  "nbformat": 4,
  "nbformat_minor": 0
}